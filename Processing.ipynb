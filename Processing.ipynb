{
 "cells": [
  {
   "cell_type": "code",
   "execution_count": 1,
   "metadata": {},
   "outputs": [],
   "source": [
    "import pandas as pd\n",
    "import numpy as np\n",
    "import matplotlib.pyplot as plt\n",
    "from sklearn.preprocessing import StandardScaler, OneHotEncoder\n",
    "from sklearn.model_selection import train_test_split\n",
    "from sklearn.decomposition import PCA\n",
    "import warnings\n",
    "warnings.filterwarnings('ignore')"
   ]
  },
  {
   "cell_type": "code",
   "execution_count": 2,
   "metadata": {},
   "outputs": [],
   "source": [
    "df = pd.read_csv(\"train_clean.csv\", index_col=0)"
   ]
  },
  {
   "cell_type": "code",
   "execution_count": 5,
   "metadata": {},
   "outputs": [],
   "source": [
    "def transform_dataset(df, testsize):\n",
    "    df = df.drop(columns=['MSSubClass', 'MSZoning', 'Street', 'Alley', 'LotShape', 'LandContour', 'Utilities', \n",
    "                          'LotConfig', 'Condition1', 'Condition2','BldgType', 'HouseStyle', 'RoofStyle',\n",
    "                          'RoofMatl', 'Exterior1st', 'Exterior2nd', 'MasVnrType', 'Foundation', 'BsmtFinType1',\n",
    "                          'BsmtFinType2', 'BsmtFinSF2', 'Heating','Electrical', 'GarageType', 'GarageYrBlt', \n",
    "                          'GarageQual', 'GarageCond', 'PoolQC', 'Fence', 'MiscFeature', \"MasVnrArea\"])\n",
    "\n",
    "    df[\"LotFrontage\"] = df.groupby('Neighborhood')[\"LotFrontage\"].transform(lambda a: a.fillna(a.median()))\n",
    "    df[\"LandSlope\"] = df[\"LandSlope\"].apply(lambda x: 0 if x==\"Gtl\" else( 1 if x==\"Mod\" else 2))\n",
    "    df[\"ExterQual\"] = df[\"ExterQual\"].apply(lambda x: 0 if x==\"Po\" else( 1 if x==\"Fa\" else (2 if x==\"TA\" else (3 if x==\"Gd\" else 4))))\n",
    "    df[\"ExterCond\"] = df[\"ExterCond\"].apply(lambda x: 0 if x==\"Po\" else( 1 if x==\"Fa\" else (2 if x==\"TA\" else (3 if x==\"Gd\" else 4))))\n",
    "    for feature in (\"BsmtExposure\", \"BsmtQual\", \"BsmtCond\"):\n",
    "        df[feature] = df[feature].fillna('NoBsmt')\n",
    "    df[\"BsmtQual\"] = df[\"BsmtQual\"].apply(lambda x: 0 if x in (\"NoBsmt\", \"Po\") else( 1 if x==\"Fa\" else (2 if x==\"TA\" else (3 if x==\"Gd\" else 4))))\n",
    "    df[\"BsmtCond\"] = df[\"BsmtCond\"].apply(lambda x: 0 if x in (\"NoBsmt\", \"Po\") else( 1 if x==\"Fa\" else (2 if x==\"TA\" else (3 if x==\"Gd\" else 4))))\n",
    "    df[\"BsmtExposure\"] = df[\"BsmtExposure\"].apply(lambda x: 0 if x ==\"NoBsmt\" else( 1 if x==\"No\" else (2 if x==\"Mn\" else (3 if x==\"Av\" else 4))))\n",
    "    df[\"HeatingQC\"] = df[\"HeatingQC\"].apply(lambda x: 0 if x==\"Po\" else( 1 if x==\"Fa\" else (2 if x==\"TA\" else (3 if x==\"Gd\" else 4))))\n",
    "    df[\"CentralAir\"] = df[\"CentralAir\"].apply(lambda x: 0 if x==\"No\" else 1)\n",
    "    df[\"KitchenQual\"] = df[\"KitchenQual\"].apply(lambda x: 0 if x==\"Po\" else( 1 if x==\"Fa\" else (2 if x==\"TA\" else (3 if x==\"Gd\" else 4))))\n",
    "    df[\"Functional\"] = df[\"Functional\"].apply(lambda x: 0 if x==\"Sal\" else( 1 if x==\"Sev\" else (2 if x==\"Maj2\" else \n",
    "                                             (3 if x==\"Maj1\" else (4 if x==\"Mod\" else(5 if x==\"Min2\" else(6 if x==\"Min1\" else 7)))))))\n",
    "    df[\"FireplaceQu\"] = df[\"FireplaceQu\"].fillna('No')\n",
    "    df[\"FireplaceQu\"] = df[\"FireplaceQu\"].apply(lambda x: 0 if x==\"No\" else( 1 if x==\"Po\" else (2 if x==\"Fa\" else (3 if x==\"TA\" else (4 if x==\"Gd\" else 5)))))\n",
    "    df[\"GarageFinish\"] = df[\"GarageFinish\"].fillna('No')\n",
    "    df[\"GarageFinish\"] = df[\"GarageFinish\"].apply(lambda x: 0 if x==\"No\" else( 1 if x==\"Unf\" else (2 if x==\"RFn\" else 3)))\n",
    "    df[\"PavedDrive\"] = df[\"PavedDrive\"].apply(lambda x: 0 if x==\"N\" else( 1 if x==\"P\" else 2))\n",
    "    df[\"DateSold\"] = df[\"YrSold\"] + df[\"MoSold\"].apply(lambda x: (x-1)/12)\n",
    "    df = df.drop(columns=[\"YrSold\", \"MoSold\"])\n",
    "       \n",
    "    X = df.drop(columns=[\"SalePrice\"]) \n",
    "    y = df[\"SalePrice\"]\n",
    "    train, test, y_train, y_test = train_test_split(X, y, test_size=testsize, random_state=42)\n",
    "    \n",
    "    ohe = OneHotEncoder(handle_unknown=\"ignore\")\n",
    "    for feature in [\"Neighborhood\", \"SaleType\", \"SaleCondition\"]:\n",
    "        ohe.fit(train[feature].values.reshape(-1, 1))\n",
    "        train_encoded = pd.DataFrame(ohe.transform(train[feature].values.reshape(-1, 1)).toarray(), \n",
    "                               index=train.index, columns=[feature + i for i in ohe.categories_[0]])\n",
    "        train = train.merge(train_encoded, right_index=True, left_index=True).drop(columns=feature)\n",
    "        test_encoded = pd.DataFrame(ohe.transform(test[feature].values.reshape(-1, 1)).toarray(), \n",
    "                               index=test.index, columns=[feature + i for i in ohe.categories_[0]])\n",
    "        test = test.merge(test_encoded, right_index=True, left_index=True).drop(columns=feature)\n",
    "        \n",
    "    scaler = StandardScaler()\n",
    "    for feature in train.columns[:44]:\n",
    "        scaler.fit(train[feature].values.reshape(-1, 1))\n",
    "        train[feature] = scaler.transform(train[feature].values.reshape(-1, 1))\n",
    "        test[feature] = scaler.transform(test[feature].values.reshape(-1, 1))\n",
    "        \n",
    "    scaler.fit(y_train.values.reshape(-1, 1))\n",
    "    params = [scaler.mean_[0], np.sqrt(scaler.var_[0])]\n",
    "    y_train = scaler.transform(y_train.values.reshape(-1, 1))\n",
    "    y_test = scaler.transform(y_test.values.reshape(-1, 1))\n",
    "    \n",
    "    return train, test, y_train, y_test, params"
   ]
  },
  {
   "cell_type": "code",
   "execution_count": 6,
   "metadata": {},
   "outputs": [],
   "source": [
    "X_train, X_test, y_train, y_test, params = transform_dataset(df, 0.2)"
   ]
  },
  {
   "cell_type": "code",
   "execution_count": 7,
   "metadata": {},
   "outputs": [],
   "source": [
    "pd.Series(params, index=[\"mean\", \"std\"]).to_csv(\"y_reverse_transformation.csv\")"
   ]
  },
  {
   "cell_type": "code",
   "execution_count": 8,
   "metadata": {},
   "outputs": [],
   "source": [
    "variance = []\n",
    "for d in range(1, 45):\n",
    "    pca = PCA(n_components=d)\n",
    "    pca.fit(X_train.iloc[:,:44])\n",
    "    variance.append(pca.explained_variance_ratio_.sum())"
   ]
  },
  {
   "cell_type": "code",
   "execution_count": 9,
   "metadata": {
    "scrolled": true
   },
   "outputs": [
    {
     "data": {
      "image/png": "[encoded data removed]",
      "text/plain": [
       "<Figure size 432x288 with 1 Axes>"
      ]
     },
     "metadata": {
      "needs_background": "light"
     },
     "output_type": "display_data"
    }
   ],
   "source": [
    "plt.plot(range(1, 45), variance)\n",
    "#plt.yticks(np.arange(0,11)/10)\n",
    "plt.xticks(np.arange(0,50,5))\n",
    "plt.grid()\n",
    "plt.savefig(\"visualizations/PCA.png\", dpi=600, bbox_inches=\"tight\")"
   ]
  },
  {
   "cell_type": "code",
   "execution_count": 10,
   "metadata": {},
   "outputs": [],
   "source": [
    "def pct_dataset(train, test, dimension):\n",
    "    pca = PCA(n_components=dimension)\n",
    "    pca.fit(train.iloc[:,:44])\n",
    "    train_num = pd.DataFrame(pca.transform(train.iloc[:,:44]), index=train.index)\n",
    "    test_num = pd.DataFrame(pca.transform(test.iloc[:,:44]), index=test.index)\n",
    "    \n",
    "    scaler = StandardScaler()\n",
    "    for feature in train_num.columns:\n",
    "        scaler.fit(train_num[feature].values.reshape(-1, 1))\n",
    "        train_num[feature] = scaler.transform(train_num[feature].values.reshape(-1, 1))\n",
    "        test_num[feature] = scaler.transform(test_num[feature].values.reshape(-1, 1))\n",
    "        \n",
    "    train = train.drop(columns=train.columns[:44]).join(train_num)\n",
    "    test = test.drop(columns=test.columns[:44]).join(test_num)\n",
    "    return train, test"
   ]
  },
  {
   "cell_type": "code",
   "execution_count": 11,
   "metadata": {},
   "outputs": [],
   "source": [
    "X_train, X_test = pct_dataset(X_train, X_test, 25)"
   ]
  },
  {
   "cell_type": "code",
   "execution_count": 12,
   "metadata": {},
   "outputs": [],
   "source": [
    "X_train.to_csv(\"X_train.csv\")\n",
    "pd.DataFrame(y_train, columns=[\"SalePrice\"]).to_csv(\"y_train.csv\")\n",
    "X_test.to_csv(\"X_test.csv\")\n",
    "pd.DataFrame(y_test, columns=[\"SalePrice\"]).to_csv(\"y_test.csv\")"
   ]
  },
  {
   "cell_type": "code",
   "execution_count": null,
   "metadata": {},
   "outputs": [],
   "source": []
  }
 ],
 "metadata": {
  "kernelspec": {
   "display_name": "Python 3",
   "language": "python",
   "name": "python3"
  },
  "language_info": {
   "codemirror_mode": {
    "name": "ipython",
    "version": 3
   },
   "file_extension": ".py",
   "mimetype": "text/x-python",
   "name": "python",
   "nbconvert_exporter": "python",
   "pygments_lexer": "ipython3",
   "version": "3.7.3"
  }
 },
 "nbformat": 4,
 "nbformat_minor": 2
}
